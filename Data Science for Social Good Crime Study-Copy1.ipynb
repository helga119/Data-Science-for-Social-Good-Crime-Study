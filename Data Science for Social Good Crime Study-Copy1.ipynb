{
 "cells": [
  {
   "cell_type": "code",
   "execution_count": 2,
   "id": "580d9424-b39a-4eae-b618-a9b2429f5749",
   "metadata": {},
   "outputs": [
    {
     "name": "stderr",
     "output_type": "stream",
     "text": [
      "Parsed with column specification:\n",
      "cols(\n",
      "  IncidntNum = col_double(),\n",
      "  Category = col_character(),\n",
      "  Descript = col_character(),\n",
      "  DayOfWeek = col_character(),\n",
      "  Date = col_datetime(format = \"\"),\n",
      "  Time = col_time(format = \"\"),\n",
      "  PdDistrict = col_character(),\n",
      "  Resolution = col_character(),\n",
      "  Address = col_character(),\n",
      "  X = col_double(),\n",
      "  Y = col_double(),\n",
      "  Location = col_character(),\n",
      "  PdId = col_double()\n",
      ")\n",
      "Parsed with column specification:\n",
      "cols(\n",
      "  `Crime Id` = col_double(),\n",
      "  Descript = col_character(),\n",
      "  `Report Date` = col_datetime(format = \"\"),\n",
      "  Date = col_datetime(format = \"\"),\n",
      "  `Offense Date` = col_datetime(format = \"\"),\n",
      "  `Call Time` = col_time(format = \"\"),\n",
      "  `Call Date Time` = col_datetime(format = \"\"),\n",
      "  Disposition = col_character(),\n",
      "  Address = col_character(),\n",
      "  City = col_character(),\n",
      "  State = col_character(),\n",
      "  `Agency Id` = col_double(),\n",
      "  `Address Type` = col_character(),\n",
      "  `Common Location` = col_character()\n",
      ")\n"
     ]
    },
    {
     "name": "stdout",
     "output_type": "stream",
     "text": [
      "[1] \"Done!\"\n"
     ]
    }
   ],
   "source": [
    "library(tidyverse)\n",
    "library(lubridate)\n",
    "\n",
    "# Read in incidents dataset\n",
    "incidents <- read_csv('downsample_police-department-incidents.csv')\n",
    "\n",
    "# Read in calls dataset\n",
    "calls <- read_csv('downsample_police-department-calls-for-service.csv')\n",
    "\n",
    "print('Done!')"
   ]
  },
  {
   "cell_type": "code",
   "execution_count": 3,
   "id": "7e2e9990-86a3-44ee-93b0-09e8a2612c15",
   "metadata": {},
   "outputs": [
    {
     "name": "stdout",
     "output_type": "stream",
     "text": [
      "Observations: 84,000\n",
      "Variables: 13\n",
      "$ IncidntNum <dbl> 176122807, 160569314, 160362475, 160435298, 90543656, 18...\n",
      "$ Category   <chr> \"LARCENY/THEFT\", \"ASSAULT\", \"ROBBERY\", \"KIDNAPPING\", \"MI...\n",
      "$ Descript   <chr> \"GRAND THEFT FROM UNLOCKED AUTO\", \"BATTERY\", \"ROBBERY, B...\n",
      "$ DayOfWeek  <chr> \"Saturday\", \"Thursday\", \"Tuesday\", \"Friday\", \"Tuesday\", ...\n",
      "$ Date       <dttm> 2017-05-13, 2016-07-14, 2016-05-03, 2016-05-27, 2009-05...\n",
      "$ Time       <time> 10:20:00, 16:00:00, 14:19:00, 23:57:00, 07:40:00, 18:00...\n",
      "$ PdDistrict <chr> \"SOUTHERN\", \"MISSION\", \"NORTHERN\", \"SOUTHERN\", \"TARAVAL\"...\n",
      "$ Resolution <chr> \"NONE\", \"NONE\", \"ARREST, BOOKED\", \"ARREST, BOOKED\", \"LOC...\n",
      "$ Address    <chr> \"800 Block of BRYANT ST\", \"MISSION ST / CESAR CHAVEZ ST\"...\n",
      "$ X          <dbl> -122.4034, -122.4182, -122.4299, -122.4050, -122.4612, -...\n",
      "$ Y          <dbl> 37.77542, 37.74817, 37.77744, 37.78512, 37.71912, 37.806...\n",
      "$ Location   <chr> \"{'latitude': '37.775420706711', 'human_address': '{\\\"ad...\n",
      "$ PdId       <dbl> 1.761228e+13, 1.605693e+13, 1.603625e+13, 1.604353e+13, ...\n",
      "Observations: 100,000\n",
      "Variables: 14\n",
      "$ `Crime Id`        <dbl> 163003307, 180870423, 173510362, 163272811, 17281...\n",
      "$ Descript          <chr> \"Bicyclist\", \"586\", \"Suspicious Person\", \"911 Dro...\n",
      "$ `Report Date`     <dttm> 2016-10-26, 2018-03-28, 2017-12-17, 2016-11-22, ...\n",
      "$ Date              <dttm> 2016-10-26, 2018-03-28, 2017-12-17, 2016-11-22, ...\n",
      "$ `Offense Date`    <dttm> 2016-10-26, 2018-03-28, 2017-12-17, 2016-11-22, ...\n",
      "$ `Call Time`       <time> 17:47:00, 05:49:00, 03:00:00, 17:39:00, 08:54:00...\n",
      "$ `Call Date Time`  <dttm> 2016-10-26 17:47:00, 2018-03-28 05:49:00, 2017-1...\n",
      "$ Disposition       <chr> \"GOA\", \"HAN\", \"ADV\", \"NOM\", \"GOA\", \"ADV\", \"REP\", ...\n",
      "$ Address           <chr> \"The Embarcadero Nor/kearny St\", \"Ingalls St/van ...\n",
      "$ City              <chr> \"San Francisco\", \"San Francisco\", \"San Francisco\"...\n",
      "$ State             <chr> \"CA\", \"CA\", \"CA\", \"CA\", \"CA\", \"CA\", \"CA\", \"CA\", \"...\n",
      "$ `Agency Id`       <dbl> 1, 1, 1, 1, 1, 1, 1, 1, 1, 1, 1, 1, 1, 1, 1, 1, 1...\n",
      "$ `Address Type`    <chr> \"Intersection\", \"Intersection\", \"Intersection\", \"...\n",
      "$ `Common Location` <chr> NA, NA, NA, NA, NA, NA, \"Midori Hotel Sro #612, S...\n"
     ]
    }
   ],
   "source": [
    "# Glimpse the structure of both datasets\n",
    "glimpse(incidents)\n",
    "glimpse(calls)\n",
    "\n",
    "# Aggregate the number of reported incidents by Date\n",
    "daily_incidents <- incidents %>%\n",
    "    count(Date, sort = TRUE) %>%\n",
    "    rename(n_incidents = n)\n",
    "\n",
    "# Aggregate the number of calls for police service by Date\n",
    "daily_calls <- calls %>%\n",
    "    count(Date, sort = TRUE) %>%\n",
    "    rename(n_calls = n)"
   ]
  },
  {
   "cell_type": "code",
   "execution_count": 4,
   "id": "d90ad925-7f4b-47d4-9530-3e7209c773c8",
   "metadata": {},
   "outputs": [
    {
     "name": "stdout",
     "output_type": "stream",
     "text": [
      "Observations: 776\n",
      "Variables: 3\n",
      "$ Date        <dttm> 2017-03-01, 2017-09-01, 2016-04-01, 2017-03-17, 2016-1...\n",
      "$ n_incidents <int> 124, 124, 120, 118, 117, 114, 111, 110, 110, 110, 109, ...\n",
      "$ n_calls     <int> 133, 138, 124, 129, 115, 120, 127, 106, 124, 108, 111, ...\n",
      "[1] \"Done!\"\n"
     ]
    }
   ],
   "source": [
    "\n",
    "# Join data frames to create a new \"mutated\" set of information\n",
    "shared_dates <- inner_join(daily_incidents, daily_calls, by = \"Date\")\n",
    "\n",
    "# Take a glimpse of this new data frame\n",
    "glimpse(shared_dates)\n",
    "\n",
    "print('Done!')"
   ]
  },
  {
   "cell_type": "code",
   "execution_count": 5,
   "id": "d3134667-773e-46cf-91b6-4d9cb31b4305",
   "metadata": {},
   "outputs": [
    {
     "data": {
      "image/png": "[encoded data removed]",
      "text/plain": [
       "plot without title"
      ]
     },
     "metadata": {},
     "output_type": "display_data"
    }
   ],
   "source": [
    "# Gather into long format using the \"Date\" column to define observations\n",
    "plot_shared_dates <- shared_dates %>%\n",
    "  gather(key = report, value = count, -Date)\n",
    "\n",
    "# Plot points and regression trend lines\n",
    "ggplot(plot_shared_dates, aes(x = Date, y = count, color = report)) +\n",
    "  geom_point() +\n",
    "  geom_smooth(method = \"lm\", formula = y ~ x)\n"
   ]
  },
  {
   "cell_type": "code",
   "execution_count": 6,
   "id": "69f3dd15-8529-4db1-9894-3e1d5b6cce5f",
   "metadata": {},
   "outputs": [
    {
     "name": "stdout",
     "output_type": "stream",
     "text": [
      "[1] 0.1469688\n",
      "[1] 0.970683\n"
     ]
    }
   ],
   "source": [
    "# Calculate correlation coefficient between daily frequencies\n",
    "daily_cor <- cor(shared_dates$n_incidents, shared_dates$n_calls)\n",
    "print(daily_cor)\n",
    "\n",
    "# Summarize frequencies by month\n",
    "correlation_df <- shared_dates %>% \n",
    "  mutate(month = month(Date)) %>%\n",
    "  group_by(month) %>% \n",
    "  summarize(n_incidents = sum(n_incidents),\n",
    "            n_calls = sum(n_calls))\n",
    "\n",
    "# Calculate correlation coefficient between monthly frequencies\n",
    "monthly_cor <- cor(correlation_df$n_incidents, correlation_df$n_calls)\n",
    "print(monthly_cor)\n"
   ]
  },
  {
   "cell_type": "code",
   "execution_count": 7,
   "id": "46daa682-1a1c-46f4-a5e8-e044c9dfa2de",
   "metadata": {},
   "outputs": [
    {
     "name": "stdout",
     "output_type": "stream",
     "text": [
      "[1] TRUE\n"
     ]
    }
   ],
   "source": [
    "# Subset calls to police by shared_dates\n",
    "calls_shared_dates <- calls %>%\n",
    "  semi_join(shared_dates, by = \"Date\")\n",
    "\n",
    "# Perform a sanity check that we are using this filtering join function appropriately\n",
    "print(identical(sort(unique(shared_dates$Date)), sort(unique(calls_shared_dates$Date))))\n",
    "\n",
    "# Filter recorded incidents by shared_dates\n",
    "incidents_shared_dates <- incidents %>%\n",
    "  semi_join(shared_dates, by = \"Date\")\n"
   ]
  },
  {
   "cell_type": "code",
   "execution_count": 8,
   "id": "ddc46b66-ebe7-4c10-8761-645d06ddd8bc",
   "metadata": {},
   "outputs": [
    {
     "data": {
      "image/png": "[encoded data removed]",
      "text/plain": [
       "plot without title"
      ]
     },
     "metadata": {},
     "output_type": "display_data"
    },
    {
     "data": {
      "image/png": "[encoded data removed]",
      "text/plain": [
       "plot without title"
      ]
     },
     "metadata": {},
     "output_type": "display_data"
    }
   ],
   "source": [
    "# Create a bar chart of the number of calls for each crime\n",
    "plot_calls_freq <- calls_shared_dates %>% \n",
    "  count(Descript) %>% \n",
    "  top_n(15, n) %>% \n",
    "  ggplot(aes(x = reorder(Descript, n), y = n)) +\n",
    "  geom_bar(stat = 'identity') +\n",
    "  ylab(\"Count\") +\n",
    "  xlab(\"Crime Description\") +\n",
    "  ggtitle(\"Top 15 Calls Reported Crimes\") +\n",
    "  coord_flip()\n",
    "\n",
    "# Create a bar chart of the number of reported incidents for each crime\n",
    "plot_incidents_freq <- incidents_shared_dates %>% \n",
    "  count(Descript) %>% \n",
    "  top_n(15, n) %>% \n",
    "  ggplot(aes(x = reorder(Descript, n), y = n)) +\n",
    "  geom_bar(stat = 'identity') +\n",
    "  ylab(\"Count\") +\n",
    "  xlab(\"Crime Description\") +\n",
    "  ggtitle(\"Top 15 Incidents Reported Crimes\") +\n",
    "  coord_flip()\n",
    "\n",
    "# Output the plots\n",
    "print(plot_calls_freq)\n",
    "print(plot_incidents_freq)\n"
   ]
  },
  {
   "cell_type": "code",
   "execution_count": 9,
   "id": "b61db22f-5ba1-48ce-a542-32a265f5d550",
   "metadata": {},
   "outputs": [
    {
     "data": {
      "text/html": [
       "<table>\n",
       "<thead><tr><th scope=col>Address</th><th scope=col>n</th></tr></thead>\n",
       "<tbody>\n",
       "\t<tr><td>1100 Block Of Point Lobos Av        </td><td>21                                  </td></tr>\n",
       "\t<tr><td>3600 Block Of Lyon St               </td><td>20                                  </td></tr>\n",
       "\t<tr><td>100 Block Of Christmas Tree Point Rd</td><td>18                                  </td></tr>\n",
       "\t<tr><td>1300 Block Of Webster St            </td><td>12                                  </td></tr>\n",
       "\t<tr><td>500 Block Of 6th Av                 </td><td>12                                  </td></tr>\n",
       "\t<tr><td>800 Block Of Vallejo St             </td><td>10                                  </td></tr>\n",
       "\t<tr><td>1000 Block Of Great Hy              </td><td> 9                                  </td></tr>\n",
       "\t<tr><td>100 Block Of Hagiwara Tea Garden Dr </td><td> 7                                  </td></tr>\n",
       "\t<tr><td>1100 Block Of Fillmore St           </td><td> 7                                  </td></tr>\n",
       "\t<tr><td>3300 Block Of 20th Av               </td><td> 7                                  </td></tr>\n",
       "\t<tr><td>800 Block Of Mission St             </td><td> 7                                  </td></tr>\n",
       "</tbody>\n",
       "</table>\n"
      ],
      "text/latex": [
       "\\begin{tabular}{r|ll}\n",
       " Address & n\\\\\n",
       "\\hline\n",
       "\t 1100 Block Of Point Lobos Av         & 21                                  \\\\\n",
       "\t 3600 Block Of Lyon St                & 20                                  \\\\\n",
       "\t 100 Block Of Christmas Tree Point Rd & 18                                  \\\\\n",
       "\t 1300 Block Of Webster St             & 12                                  \\\\\n",
       "\t 500 Block Of 6th Av                  & 12                                  \\\\\n",
       "\t 800 Block Of Vallejo St              & 10                                  \\\\\n",
       "\t 1000 Block Of Great Hy               &  9                                  \\\\\n",
       "\t 100 Block Of Hagiwara Tea Garden Dr  &  7                                  \\\\\n",
       "\t 1100 Block Of Fillmore St            &  7                                  \\\\\n",
       "\t 3300 Block Of 20th Av                &  7                                  \\\\\n",
       "\t 800 Block Of Mission St              &  7                                  \\\\\n",
       "\\end{tabular}\n"
      ],
      "text/markdown": [
       "\n",
       "| Address | n |\n",
       "|---|---|\n",
       "| 1100 Block Of Point Lobos Av         | 21                                   |\n",
       "| 3600 Block Of Lyon St                | 20                                   |\n",
       "| 100 Block Of Christmas Tree Point Rd | 18                                   |\n",
       "| 1300 Block Of Webster St             | 12                                   |\n",
       "| 500 Block Of 6th Av                  | 12                                   |\n",
       "| 800 Block Of Vallejo St              | 10                                   |\n",
       "| 1000 Block Of Great Hy               |  9                                   |\n",
       "| 100 Block Of Hagiwara Tea Garden Dr  |  7                                   |\n",
       "| 1100 Block Of Fillmore St            |  7                                   |\n",
       "| 3300 Block Of 20th Av                |  7                                   |\n",
       "| 800 Block Of Mission St              |  7                                   |\n",
       "\n"
      ],
      "text/plain": [
       "   Address                              n \n",
       "1  1100 Block Of Point Lobos Av         21\n",
       "2  3600 Block Of Lyon St                20\n",
       "3  100 Block Of Christmas Tree Point Rd 18\n",
       "4  1300 Block Of Webster St             12\n",
       "5  500 Block Of 6th Av                  12\n",
       "6  800 Block Of Vallejo St              10\n",
       "7  1000 Block Of Great Hy                9\n",
       "8  100 Block Of Hagiwara Tea Garden Dr   7\n",
       "9  1100 Block Of Fillmore St             7\n",
       "10 3300 Block Of 20th Av                 7\n",
       "11 800 Block Of Mission St               7"
      ]
     },
     "metadata": {},
     "output_type": "display_data"
    },
    {
     "data": {
      "text/html": [
       "<table>\n",
       "<thead><tr><th scope=col>Address</th><th scope=col>n</th></tr></thead>\n",
       "<tbody>\n",
       "\t<tr><td>800 Block of BRYANT ST      </td><td>441                         </td></tr>\n",
       "\t<tr><td>500 Block of JOHNFKENNEDY DR</td><td> 89                         </td></tr>\n",
       "\t<tr><td>1000 Block of POINTLOBOS AV </td><td> 84                         </td></tr>\n",
       "\t<tr><td>800 Block of MISSION ST     </td><td> 61                         </td></tr>\n",
       "\t<tr><td>2600 Block of GEARY BL      </td><td> 38                         </td></tr>\n",
       "\t<tr><td>3600 Block of LYON ST       </td><td> 36                         </td></tr>\n",
       "\t<tr><td>1300 Block of WEBSTER ST    </td><td> 35                         </td></tr>\n",
       "\t<tr><td>1100 Block of FILLMORE ST   </td><td> 34                         </td></tr>\n",
       "\t<tr><td>22ND ST / ILLINOIS ST       </td><td> 33                         </td></tr>\n",
       "\t<tr><td>400 Block of 6TH AV         </td><td> 30                         </td></tr>\n",
       "</tbody>\n",
       "</table>\n"
      ],
      "text/latex": [
       "\\begin{tabular}{r|ll}\n",
       " Address & n\\\\\n",
       "\\hline\n",
       "\t 800 Block of BRYANT ST       & 441                         \\\\\n",
       "\t 500 Block of JOHNFKENNEDY DR &  89                         \\\\\n",
       "\t 1000 Block of POINTLOBOS AV  &  84                         \\\\\n",
       "\t 800 Block of MISSION ST      &  61                         \\\\\n",
       "\t 2600 Block of GEARY BL       &  38                         \\\\\n",
       "\t 3600 Block of LYON ST        &  36                         \\\\\n",
       "\t 1300 Block of WEBSTER ST     &  35                         \\\\\n",
       "\t 1100 Block of FILLMORE ST    &  34                         \\\\\n",
       "\t 22ND ST / ILLINOIS ST        &  33                         \\\\\n",
       "\t 400 Block of 6TH AV          &  30                         \\\\\n",
       "\\end{tabular}\n"
      ],
      "text/markdown": [
       "\n",
       "| Address | n |\n",
       "|---|---|\n",
       "| 800 Block of BRYANT ST       | 441                          |\n",
       "| 500 Block of JOHNFKENNEDY DR |  89                          |\n",
       "| 1000 Block of POINTLOBOS AV  |  84                          |\n",
       "| 800 Block of MISSION ST      |  61                          |\n",
       "| 2600 Block of GEARY BL       |  38                          |\n",
       "| 3600 Block of LYON ST        |  36                          |\n",
       "| 1300 Block of WEBSTER ST     |  35                          |\n",
       "| 1100 Block of FILLMORE ST    |  34                          |\n",
       "| 22ND ST / ILLINOIS ST        |  33                          |\n",
       "| 400 Block of 6TH AV          |  30                          |\n",
       "\n"
      ],
      "text/plain": [
       "   Address                      n  \n",
       "1  800 Block of BRYANT ST       441\n",
       "2  500 Block of JOHNFKENNEDY DR  89\n",
       "3  1000 Block of POINTLOBOS AV   84\n",
       "4  800 Block of MISSION ST       61\n",
       "5  2600 Block of GEARY BL        38\n",
       "6  3600 Block of LYON ST         36\n",
       "7  1300 Block of WEBSTER ST      35\n",
       "8  1100 Block of FILLMORE ST     34\n",
       "9  22ND ST / ILLINOIS ST         33\n",
       "10 400 Block of 6TH AV           30"
      ]
     },
     "metadata": {},
     "output_type": "display_data"
    }
   ],
   "source": [
    "# Arrange the top 10 locations of called in crimes in a new variable\n",
    "location_calls <- calls_shared_dates %>%\n",
    "  filter(Descript == \"Auto Boost / Strip\") %>% \n",
    "  count(Address) %>% \n",
    "  arrange(desc(n))%>% \n",
    "  top_n(10, n)\n",
    "\n",
    "# Arrange the top 10 locations of reported incidents in a new variable\n",
    "location_incidents <- incidents_shared_dates %>%\n",
    "  filter(Descript == \"GRAND THEFT FROM LOCKED AUTO\") %>% \n",
    "  count(Address) %>% \n",
    "  arrange(desc(n))%>% \n",
    "  top_n(10, n)\n",
    "\n",
    "# Output the top locations of each dataset for comparison\n",
    "location_calls\n",
    "location_incidents\n"
   ]
  },
  {
   "cell_type": "code",
   "execution_count": 12,
   "id": "77b09473-f9b3-43e9-bc5e-a965b3cc2125",
   "metadata": {},
   "outputs": [
    {
     "ename": "ERROR",
     "evalue": "Error in readRDS(\"sf_map.RDS\"): unknown input format\n",
     "output_type": "error",
     "traceback": [
      "Error in readRDS(\"sf_map.RDS\"): unknown input format\nTraceback:\n",
      "1. readRDS(\"sf_map.RDS\")"
     ]
    }
   ],
   "source": [
    "# Read in a static map of San Francisco \n",
    ".... <- readRDS(\"sf_map.RDS\")\n",
    "\n",
    "# Filter grand theft auto incidents\n",
    "auto_incidents <- .... %>% \n",
    "    ....(.... == \"GRAND THEFT FROM LOCKED AUTO\")\n",
    "\n",
    "# Overlay a density plot of auto incidents on the map\n",
    "ggmap(....) +\n",
    "  stat_density_2d(\n",
    "    aes(x = X, y = Y, fill = ..level..), alpha = 0.15,\n",
    "    size = 0.01, bins = 30, data = ....,\n",
    "    geom = \"polygon\")"
   ]
  },
  {
   "cell_type": "code",
   "execution_count": null,
   "id": "87c74722-a6c7-4bd3-830d-62b551d427c8",
   "metadata": {},
   "outputs": [],
   "source": []
  }
 ],
 "metadata": {
  "kernelspec": {
   "display_name": "R",
   "language": "R",
   "name": "ir"
  },
  "language_info": {
   "codemirror_mode": "r",
   "file_extension": ".r",
   "mimetype": "text/x-r-source",
   "name": "R",
   "pygments_lexer": "r",
   "version": "3.6.1"
  }
 },
 "nbformat": 4,
 "nbformat_minor": 5
}
